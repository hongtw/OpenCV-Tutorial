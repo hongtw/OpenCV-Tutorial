{
 "cells": [
  {
   "cell_type": "code",
   "execution_count": 23,
   "metadata": {},
   "outputs": [],
   "source": [
    "import cv2\n",
    "import numpy as np"
   ]
  },
  {
   "cell_type": "code",
   "execution_count": 27,
   "metadata": {
    "scrolled": true
   },
   "outputs": [
    {
     "name": "stdout",
     "output_type": "stream",
     "text": [
      "{'EVENT_MOUSEMOVE', 'EVENT_RBUTTONDBLCLK', 'EVENT_RBUTTONUP', 'EVENT_MBUTTONDOWN', 'EVENT_MOUSEHWHEEL', 'EVENT_RBUTTONDOWN', 'EVENT_LBUTTONDBLCLK', 'EVENT_LBUTTONUP', 'EVENT_MBUTTONUP', 'EVENT_MBUTTONDBLCLK', 'EVENT_MOUSEWHEEL', 'EVENT_LBUTTONDOWN'}\n",
      "['EVENT_FLAG_ALTKEY', 'EVENT_FLAG_CTRLKEY', 'EVENT_FLAG_LBUTTON', 'EVENT_FLAG_MBUTTON', 'EVENT_FLAG_RBUTTON', 'EVENT_FLAG_SHIFTKEY']\n"
     ]
    }
   ],
   "source": [
    "#查看所有被支持的鼠标事件\n",
    "import cv2\n",
    "events = [i for i in dir(cv2) if 'EVENT' in i]\n",
    "event_flag = [i for i in events if 'FLAG' in i]\n",
    "print(set(events) - set(event_flag))\n",
    "print(event_flag)"
   ]
  },
  {
   "cell_type": "markdown",
   "metadata": {},
   "source": [
    "# Click and Circle"
   ]
  },
  {
   "cell_type": "code",
   "execution_count": 36,
   "metadata": {},
   "outputs": [],
   "source": [
    "# mouse callback function\n",
    "\n",
    "def draw_circle(event, x, y, flags, param):\n",
    "    if event == cv2.EVENT_LBUTTONDBLCLK:\n",
    "        cv2.circle(img, (x, y), 100, (255, 0, 0), -1)\n",
    "        \n",
    "# 创建图像与窗口并将窗口与回调函数绑定\n",
    "img = np.zeros((500, 500, 3), np.uint8)\n",
    "cv2.namedWindow('image')\n",
    "cv2.setMouseCallback('image', draw_circle)\n",
    "\n",
    "while (1):\n",
    "    cv2.imshow('image', img)\n",
    "    if cv2.waitKey(1)&0xFF == ord('q'):#按q键退出\n",
    "        break\n",
    "cv2.destroyAllWindows()"
   ]
  },
  {
   "cell_type": "markdown",
   "metadata": {},
   "source": [
    "# 左鍵不放畫圖"
   ]
  },
  {
   "cell_type": "code",
   "execution_count": 17,
   "metadata": {},
   "outputs": [],
   "source": [
    "#当鼠标按下时为True\n",
    "drawing = False\n",
    "#如果mode为true时绘制矩形，按下'm'变成绘制曲线\n",
    "mode = True\n",
    "ix,iy = -1,-1\n",
    "\n",
    "#创建回调函数\n",
    "def draw_circle(event, x, y, flags, param):\n",
    "    global ix,iy,drawing,mode\n",
    "    #当按下左键时返回起始位置坐标\n",
    "    if event == cv2.EVENT_LBUTTONDOWN:\n",
    "        drawing = True\n",
    "        draw_circle = True\n",
    "        ix,iy=x,y\n",
    "    #当左键按下并移动时绘制图形，event可以查看移动，flag查看是否按下\n",
    "    elif event==cv2.EVENT_MOUSEMOVE and flags==cv2.EVENT_FLAG_LBUTTON:\n",
    "        if drawing == True:\n",
    "            if mode == True:\n",
    "                cv2.rectangle(img,(ix,iy),(x,y),(0,255,0),-1)\n",
    "            else:\n",
    "                #绘制圆圈，小圆点连在一起就成了线，3代表笔画的粗细\n",
    "                cv2.circle(img,(x,y),3,(0,0,255),-1)\n",
    "    #当鼠标松开时停止绘图\n",
    "    elif event ==cv2.EVENT_LBUTTONUP:\n",
    "        drawing == False\n",
    "\n",
    "'''\n",
    "下面把回调函数与OpenCV窗口绑定在一起，在主循环中奖'm'键与模式转换绑定在一起\n",
    "'''\n",
    "img = np.zeros((500,500,3),np.uint8)\n",
    "cv2.namedWindow('image')\n",
    "cv2.setMouseCallback('image',draw_circle)\n",
    "while(1):\n",
    "    cv2.imshow('image',img)\n",
    "    k=cv2.waitKey(1)\n",
    "    if k ==ord('m'):\n",
    "        mode=not mode\n",
    "    elif k==ord('q'):    \n",
    "        break\n",
    "cv2.destroyAllWindows()"
   ]
  },
  {
   "cell_type": "markdown",
   "metadata": {},
   "source": [
    "# 紀錄座標點並裁切得到透視轉換"
   ]
  },
  {
   "cell_type": "markdown",
   "metadata": {},
   "source": [
    "# 給定4點得到裁切和透視轉換\n",
    "https://github.com/jrosebr1/imutils/blob/master/demos/perspective_transform.py"
   ]
  },
  {
   "cell_type": "code",
   "execution_count": 15,
   "metadata": {},
   "outputs": [
    {
     "ename": "error",
     "evalue": "C:\\projects\\opencv-python\\opencv\\modules\\highgui\\src\\window_w32.cpp:783: error: (-218) Library was built without OpenGL support in function cvNamedWindow\n",
     "output_type": "error",
     "traceback": [
      "\u001b[1;31m---------------------------------------------------------------------------\u001b[0m",
      "\u001b[1;31merror\u001b[0m                                     Traceback (most recent call last)",
      "\u001b[1;32m<ipython-input-15-2574a9a27ff2>\u001b[0m in \u001b[0;36m<module>\u001b[1;34m()\u001b[0m\n\u001b[0;32m     20\u001b[0m \u001b[1;33m\u001b[0m\u001b[0m\n\u001b[0;32m     21\u001b[0m \u001b[0mparam\u001b[0m \u001b[1;33m=\u001b[0m \u001b[1;33m{\u001b[0m\u001b[1;34m'image'\u001b[0m\u001b[1;33m:\u001b[0m\u001b[0mimage\u001b[0m\u001b[1;33m,\u001b[0m \u001b[1;34m'click_times'\u001b[0m\u001b[1;33m:\u001b[0m\u001b[1;36m0\u001b[0m\u001b[1;33m,\u001b[0m \u001b[1;34m\"pts\"\u001b[0m\u001b[1;33m:\u001b[0m\u001b[1;33m[\u001b[0m\u001b[1;33m]\u001b[0m\u001b[1;33m}\u001b[0m\u001b[1;33m\u001b[0m\u001b[0m\n\u001b[1;32m---> 22\u001b[1;33m \u001b[0mcv2\u001b[0m\u001b[1;33m.\u001b[0m\u001b[0mnamedWindow\u001b[0m\u001b[1;33m(\u001b[0m\u001b[1;34m'jp'\u001b[0m\u001b[1;33m,\u001b[0m \u001b[1;33m-\u001b[0m\u001b[1;36m1\u001b[0m\u001b[1;33m)\u001b[0m\u001b[1;33m\u001b[0m\u001b[0m\n\u001b[0m\u001b[0;32m     23\u001b[0m \u001b[0mcv2\u001b[0m\u001b[1;33m.\u001b[0m\u001b[0msetMouseCallback\u001b[0m\u001b[1;33m(\u001b[0m\u001b[1;34m'jp'\u001b[0m\u001b[1;33m,\u001b[0m \u001b[0mrecord\u001b[0m\u001b[1;33m,\u001b[0m \u001b[0mparam\u001b[0m\u001b[1;33m)\u001b[0m\u001b[1;33m\u001b[0m\u001b[0m\n\u001b[0;32m     24\u001b[0m \u001b[1;31m# cv2.imshow('jp' , image)\u001b[0m\u001b[1;33m\u001b[0m\u001b[1;33m\u001b[0m\u001b[0m\n",
      "\u001b[1;31merror\u001b[0m: C:\\projects\\opencv-python\\opencv\\modules\\highgui\\src\\window_w32.cpp:783: error: (-218) Library was built without OpenGL support in function cvNamedWindow\n"
     ]
    }
   ],
   "source": [
    "from imutils import perspective\n",
    "import numpy as np\n",
    "import cv2\n",
    "\n",
    "image = cv2.imread(\"jp.png\")\n",
    "\n",
    "\n",
    "def getCrop(image, pts):\n",
    "    return perspective.four_point_transform(image, np.array(pts))\n",
    "\n",
    "def record(event, x, y, flags, param):\n",
    "    click_times = param['click_times']\n",
    "    img = param['image']\n",
    "    pts = param['pts']\n",
    "    if click_times < 4:\n",
    "        if event == cv2.EVENT_LBUTTONDBLCLK or event == cv2.EVENT_LBUTTONDOWN:\n",
    "            param['click_times'] += 1\n",
    "            cv2.circle(img, (x, y), 3,(0, 255, 0), -1 )\n",
    "            pts.append((x, y))\n",
    "\n",
    "param = {'image':image, 'click_times':0, \"pts\":[]}\n",
    "cv2.namedWindow('jp')\n",
    "cv2.setMouseCallback('jp', record, param)\n",
    "# cv2.imshow('jp' , image)\n",
    "# cv2.waitKey(0)\n",
    "while(1):\n",
    "    cv2.imshow('jp', image)\n",
    "    k=cv2.waitKey(1)\n",
    "    if k==ord('q'):    \n",
    "        break\n",
    "    elif len(param['pts']) == 4:\n",
    "        try:\n",
    "            cv2.imshow('crop', getCrop(image, param['pts']))\n",
    "        except Exception as err:\n",
    "            print(err)\n",
    "\n",
    "cv2.destroyAllWindows()\n",
    "print(param['pts'])"
   ]
  },
  {
   "cell_type": "code",
   "execution_count": null,
   "metadata": {},
   "outputs": [],
   "source": []
  }
 ],
 "metadata": {
  "kernelspec": {
   "display_name": "Python 3",
   "language": "python",
   "name": "python3"
  },
  "language_info": {
   "codemirror_mode": {
    "name": "ipython",
    "version": 3
   },
   "file_extension": ".py",
   "mimetype": "text/x-python",
   "name": "python",
   "nbconvert_exporter": "python",
   "pygments_lexer": "ipython3",
   "version": "3.6.6"
  }
 },
 "nbformat": 4,
 "nbformat_minor": 2
}
